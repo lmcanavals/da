{
  "nbformat": 4,
  "nbformat_minor": 0,
  "metadata": {
    "colab": {
      "name": "11-patterns.ipynb",
      "provenance": [],
      "authorship_tag": "ABX9TyNwMt6VY3hQOQqS1ry59QVc",
      "include_colab_link": true
    },
    "kernelspec": {
      "name": "python3",
      "display_name": "Python 3"
    }
  },
  "cells": [
    {
      "cell_type": "markdown",
      "metadata": {
        "id": "view-in-github",
        "colab_type": "text"
      },
      "source": [
        "<a href=\"https://colab.research.google.com/github/pcsilcan/da/blob/master/11_patterns.ipynb\" target=\"_parent\"><img src=\"https://colab.research.google.com/assets/colab-badge.svg\" alt=\"Open In Colab\"/></a>"
      ]
    },
    {
      "cell_type": "code",
      "metadata": {
        "id": "iLYAwWPUU0Rm",
        "colab_type": "code",
        "outputId": "9d242a91-6d1a-498a-8ad7-46b2820f3524",
        "colab": {
          "base_uri": "https://localhost:8080/",
          "height": 205
        }
      },
      "source": [
        "!pip install pyfim"
      ],
      "execution_count": 0,
      "outputs": [
        {
          "output_type": "stream",
          "text": [
            "Collecting pyfim\n",
            "\u001b[?25l  Downloading https://files.pythonhosted.org/packages/b4/af/6a0e2e9cb2dad10f94859ce198a81c2d9e98af75263a14a912ff9a0cdb75/pyfim-6.28.tar.gz (357kB)\n",
            "\r\u001b[K     |█                               | 10kB 16.7MB/s eta 0:00:01\r\u001b[K     |█▉                              | 20kB 5.7MB/s eta 0:00:01\r\u001b[K     |██▊                             | 30kB 6.8MB/s eta 0:00:01\r\u001b[K     |███▊                            | 40kB 7.8MB/s eta 0:00:01\r\u001b[K     |████▋                           | 51kB 6.3MB/s eta 0:00:01\r\u001b[K     |█████▌                          | 61kB 6.9MB/s eta 0:00:01\r\u001b[K     |██████▍                         | 71kB 7.6MB/s eta 0:00:01\r\u001b[K     |███████▍                        | 81kB 7.9MB/s eta 0:00:01\r\u001b[K     |████████▎                       | 92kB 8.4MB/s eta 0:00:01\r\u001b[K     |█████████▏                      | 102kB 8.6MB/s eta 0:00:01\r\u001b[K     |██████████                      | 112kB 8.6MB/s eta 0:00:01\r\u001b[K     |███████████                     | 122kB 8.6MB/s eta 0:00:01\r\u001b[K     |████████████                    | 133kB 8.6MB/s eta 0:00:01\r\u001b[K     |████████████▉                   | 143kB 8.6MB/s eta 0:00:01\r\u001b[K     |█████████████▊                  | 153kB 8.6MB/s eta 0:00:01\r\u001b[K     |██████████████▊                 | 163kB 8.6MB/s eta 0:00:01\r\u001b[K     |███████████████▋                | 174kB 8.6MB/s eta 0:00:01\r\u001b[K     |████████████████▌               | 184kB 8.6MB/s eta 0:00:01\r\u001b[K     |█████████████████▍              | 194kB 8.6MB/s eta 0:00:01\r\u001b[K     |██████████████████▍             | 204kB 8.6MB/s eta 0:00:01\r\u001b[K     |███████████████████▎            | 215kB 8.6MB/s eta 0:00:01\r\u001b[K     |████████████████████▏           | 225kB 8.6MB/s eta 0:00:01\r\u001b[K     |█████████████████████           | 235kB 8.6MB/s eta 0:00:01\r\u001b[K     |██████████████████████          | 245kB 8.6MB/s eta 0:00:01\r\u001b[K     |███████████████████████         | 256kB 8.6MB/s eta 0:00:01\r\u001b[K     |███████████████████████▉        | 266kB 8.6MB/s eta 0:00:01\r\u001b[K     |████████████████████████▊       | 276kB 8.6MB/s eta 0:00:01\r\u001b[K     |█████████████████████████▊      | 286kB 8.6MB/s eta 0:00:01\r\u001b[K     |██████████████████████████▋     | 296kB 8.6MB/s eta 0:00:01\r\u001b[K     |███████████████████████████▌    | 307kB 8.6MB/s eta 0:00:01\r\u001b[K     |████████████████████████████▍   | 317kB 8.6MB/s eta 0:00:01\r\u001b[K     |█████████████████████████████▍  | 327kB 8.6MB/s eta 0:00:01\r\u001b[K     |██████████████████████████████▎ | 337kB 8.6MB/s eta 0:00:01\r\u001b[K     |███████████████████████████████▏| 348kB 8.6MB/s eta 0:00:01\r\u001b[K     |████████████████████████████████| 358kB 8.6MB/s \n",
            "\u001b[?25hBuilding wheels for collected packages: pyfim\n",
            "  Building wheel for pyfim (setup.py) ... \u001b[?25l\u001b[?25hdone\n",
            "  Created wheel for pyfim: filename=pyfim-6.28-cp36-cp36m-linux_x86_64.whl size=536912 sha256=371de1cacbb2a89a0bdedbd8c46a8df86c45c4ef49765b8bb34b49ad0bbb3009\n",
            "  Stored in directory: /root/.cache/pip/wheels/19/ac/b4/9ae8ceb2208d78b21b1157f8561cc4469d236b7d785e7422f1\n",
            "Successfully built pyfim\n",
            "Installing collected packages: pyfim\n",
            "Successfully installed pyfim-6.28\n"
          ],
          "name": "stdout"
        }
      ]
    },
    {
      "cell_type": "code",
      "metadata": {
        "id": "NLD_28lCU5Kw",
        "colab_type": "code",
        "colab": {}
      },
      "source": [
        "dataset = []\n",
        "dataset1 = []\n",
        "with open('zoo.bin', 'r') as file:\n",
        "    for x in file:\n",
        "        if '#' not in x:\n",
        "            items = x.split(' ')\n",
        "            dataset.append([int(j) for j in items[1:]])\n",
        "            if items[0] == '1':\n",
        "                dataset1.append([int(j) for j in items[1:]])"
      ],
      "execution_count": 0,
      "outputs": []
    },
    {
      "cell_type": "code",
      "metadata": {
        "id": "Wwhl1rNgWa5D",
        "colab_type": "code",
        "colab": {}
      },
      "source": [
        "from fim import *\n",
        "out = fpgrowth(dataset, target='a', supp=40, zmin=2, report='a')"
      ],
      "execution_count": 0,
      "outputs": []
    },
    {
      "cell_type": "code",
      "metadata": {
        "id": "eQthp87fWu51",
        "colab_type": "code",
        "colab": {}
      },
      "source": [
        "#help(fpgrowth)"
      ],
      "execution_count": 0,
      "outputs": []
    },
    {
      "cell_type": "code",
      "metadata": {
        "id": "xBrVFQKSbOhi",
        "colab_type": "code",
        "outputId": "2745cea0-1330-4917-c155-d6af9b8e3a12",
        "colab": {
          "base_uri": "https://localhost:8080/",
          "height": 70
        }
      },
      "source": [
        "import matplotlib.pyplot as plt\n",
        "import numpy as np\n",
        "import seaborn as sns; sns.set()\n",
        "import time\n",
        "import pandas as pd"
      ],
      "execution_count": 0,
      "outputs": [
        {
          "output_type": "stream",
          "text": [
            "/usr/local/lib/python3.6/dist-packages/statsmodels/tools/_testing.py:19: FutureWarning: pandas.util.testing is deprecated. Use the functions in the public API at pandas.testing instead.\n",
            "  import pandas.util.testing as tm\n"
          ],
          "name": "stderr"
        }
      ]
    },
    {
      "cell_type": "code",
      "metadata": {
        "id": "AqrjM3U1W_O0",
        "colab_type": "code",
        "colab": {}
      },
      "source": [
        "def emergingPattern(d, d1, minsupp, mingr):\n",
        "    allitemsets = eclat(d, target='a', supp=-minsupp)\n",
        "    if len(allitemsets) > 0:\n",
        "        allitemsets1 = eclat(d1, target='a', supp=-minsupp)\n",
        "        df = pd.DataFrame(allitemsets)\n",
        "        df.columns = [\"Pattern\", \"Freq\"]\n",
        "        df1 = pd.DataFrame(allitemsets1)\n",
        "        df1.columns = [\"Pattern\", \"Freq1\"]\n",
        "        emerging = df.join(df1.set_index('Pattern'), on='Pattern').fillna(0)\n",
        "        emerging[\"Gr\"] = ((len(d) - len(d1)) * emerging[\"Freq1\"]) / (len(d1) * (emerging[\"Freq\"] - emerging[\"Freq1\"]))\n",
        "        emerging = emerging[emerging.Gr >= mingr]\n",
        "        jep = emerging[emerging.Freq == emerging.Freq1]\n",
        "        return True,emerging,jep\n",
        "    return False,_,_"
      ],
      "execution_count": 0,
      "outputs": []
    },
    {
      "cell_type": "code",
      "metadata": {
        "id": "a_Jz7IgOZn3o",
        "colab_type": "code",
        "colab": {}
      },
      "source": [
        "def plotEmergingPatterns(v, em):\n",
        "    numberdata = []\n",
        "    if v:\n",
        "        for i in range(0, 61, 5):\n",
        "            em_ = em[em.Gr >= i]\n",
        "            numberdata.append((i, len(em_), 0))\n",
        "    df = pd.DataFrame(numberdata)\n",
        "    df.columns = ['Growth-rate', '#Itemsets', 'TimeEmergingItemsets']\n",
        "    sns.lineplot(x='Growth-rate', y='#Itemsets', data=df)\n",
        "    return df"
      ],
      "execution_count": 0,
      "outputs": []
    },
    {
      "cell_type": "code",
      "metadata": {
        "id": "2y6bFLIzhXIQ",
        "colab_type": "code",
        "outputId": "a6617710-5505-447a-e52d-b094bc23dbc6",
        "colab": {
          "base_uri": "https://localhost:8080/",
          "height": 700
        }
      },
      "source": [
        "val, em, jep = emergingPattern(dataset, dataset1, -1, 1)\n",
        "plotEmergingPatterns(val, em)"
      ],
      "execution_count": 0,
      "outputs": [
        {
          "output_type": "execute_result",
          "data": {
            "text/html": [
              "<div>\n",
              "<style scoped>\n",
              "    .dataframe tbody tr th:only-of-type {\n",
              "        vertical-align: middle;\n",
              "    }\n",
              "\n",
              "    .dataframe tbody tr th {\n",
              "        vertical-align: top;\n",
              "    }\n",
              "\n",
              "    .dataframe thead th {\n",
              "        text-align: right;\n",
              "    }\n",
              "</style>\n",
              "<table border=\"1\" class=\"dataframe\">\n",
              "  <thead>\n",
              "    <tr style=\"text-align: right;\">\n",
              "      <th></th>\n",
              "      <th>Growth-rate</th>\n",
              "      <th>#Itemsets</th>\n",
              "      <th>TimeEmergingItemsets</th>\n",
              "    </tr>\n",
              "  </thead>\n",
              "  <tbody>\n",
              "    <tr>\n",
              "      <th>0</th>\n",
              "      <td>0</td>\n",
              "      <td>2301</td>\n",
              "      <td>0</td>\n",
              "    </tr>\n",
              "    <tr>\n",
              "      <th>1</th>\n",
              "      <td>5</td>\n",
              "      <td>1860</td>\n",
              "      <td>0</td>\n",
              "    </tr>\n",
              "    <tr>\n",
              "      <th>2</th>\n",
              "      <td>10</td>\n",
              "      <td>1664</td>\n",
              "      <td>0</td>\n",
              "    </tr>\n",
              "    <tr>\n",
              "      <th>3</th>\n",
              "      <td>15</td>\n",
              "      <td>1606</td>\n",
              "      <td>0</td>\n",
              "    </tr>\n",
              "    <tr>\n",
              "      <th>4</th>\n",
              "      <td>20</td>\n",
              "      <td>1576</td>\n",
              "      <td>0</td>\n",
              "    </tr>\n",
              "    <tr>\n",
              "      <th>5</th>\n",
              "      <td>25</td>\n",
              "      <td>1555</td>\n",
              "      <td>0</td>\n",
              "    </tr>\n",
              "    <tr>\n",
              "      <th>6</th>\n",
              "      <td>30</td>\n",
              "      <td>1535</td>\n",
              "      <td>0</td>\n",
              "    </tr>\n",
              "    <tr>\n",
              "      <th>7</th>\n",
              "      <td>35</td>\n",
              "      <td>1509</td>\n",
              "      <td>0</td>\n",
              "    </tr>\n",
              "    <tr>\n",
              "      <th>8</th>\n",
              "      <td>40</td>\n",
              "      <td>1477</td>\n",
              "      <td>0</td>\n",
              "    </tr>\n",
              "    <tr>\n",
              "      <th>9</th>\n",
              "      <td>45</td>\n",
              "      <td>1468</td>\n",
              "      <td>0</td>\n",
              "    </tr>\n",
              "    <tr>\n",
              "      <th>10</th>\n",
              "      <td>50</td>\n",
              "      <td>1465</td>\n",
              "      <td>0</td>\n",
              "    </tr>\n",
              "    <tr>\n",
              "      <th>11</th>\n",
              "      <td>55</td>\n",
              "      <td>1465</td>\n",
              "      <td>0</td>\n",
              "    </tr>\n",
              "    <tr>\n",
              "      <th>12</th>\n",
              "      <td>60</td>\n",
              "      <td>1463</td>\n",
              "      <td>0</td>\n",
              "    </tr>\n",
              "  </tbody>\n",
              "</table>\n",
              "</div>"
            ],
            "text/plain": [
              "    Growth-rate  #Itemsets  TimeEmergingItemsets\n",
              "0             0       2301                     0\n",
              "1             5       1860                     0\n",
              "2            10       1664                     0\n",
              "3            15       1606                     0\n",
              "4            20       1576                     0\n",
              "5            25       1555                     0\n",
              "6            30       1535                     0\n",
              "7            35       1509                     0\n",
              "8            40       1477                     0\n",
              "9            45       1468                     0\n",
              "10           50       1465                     0\n",
              "11           55       1465                     0\n",
              "12           60       1463                     0"
            ]
          },
          "metadata": {
            "tags": []
          },
          "execution_count": 19
        },
        {
          "output_type": "display_data",
          "data": {
            "image/png": "[encoded data removed]",
            "text/plain": [
              "<Figure size 432x288 with 1 Axes>"
            ]
          },
          "metadata": {
            "tags": []
          }
        }
      ]
    },
    {
      "cell_type": "code",
      "metadata": {
        "id": "LFOvyG9VhlHG",
        "colab_type": "code",
        "outputId": "91d4c60a-2e77-45c9-edea-7bd553515d36",
        "colab": {
          "base_uri": "https://localhost:8080/",
          "height": 402
        }
      },
      "source": [
        "jep"
      ],
      "execution_count": 0,
      "outputs": [
        {
          "output_type": "execute_result",
          "data": {
            "text/html": [
              "<div>\n",
              "<style scoped>\n",
              "    .dataframe tbody tr th:only-of-type {\n",
              "        vertical-align: middle;\n",
              "    }\n",
              "\n",
              "    .dataframe tbody tr th {\n",
              "        vertical-align: top;\n",
              "    }\n",
              "\n",
              "    .dataframe thead th {\n",
              "        text-align: right;\n",
              "    }\n",
              "</style>\n",
              "<table border=\"1\" class=\"dataframe\">\n",
              "  <thead>\n",
              "    <tr style=\"text-align: right;\">\n",
              "      <th></th>\n",
              "      <th>Pattern</th>\n",
              "      <th>Freq</th>\n",
              "      <th>Freq1</th>\n",
              "      <th>Gr</th>\n",
              "    </tr>\n",
              "  </thead>\n",
              "  <tbody>\n",
              "    <tr>\n",
              "      <th>35921</th>\n",
              "      <td>(20, 23, 18)</td>\n",
              "      <td>19</td>\n",
              "      <td>19.0</td>\n",
              "      <td>inf</td>\n",
              "    </tr>\n",
              "    <tr>\n",
              "      <th>40381</th>\n",
              "      <td>(43, 23, 27, 16)</td>\n",
              "      <td>31</td>\n",
              "      <td>31.0</td>\n",
              "      <td>inf</td>\n",
              "    </tr>\n",
              "    <tr>\n",
              "      <th>40384</th>\n",
              "      <td>(43, 23, 27, 28)</td>\n",
              "      <td>31</td>\n",
              "      <td>31.0</td>\n",
              "      <td>inf</td>\n",
              "    </tr>\n",
              "    <tr>\n",
              "      <th>40385</th>\n",
              "      <td>(43, 23, 27)</td>\n",
              "      <td>31</td>\n",
              "      <td>31.0</td>\n",
              "      <td>inf</td>\n",
              "    </tr>\n",
              "    <tr>\n",
              "      <th>41109</th>\n",
              "      <td>(43, 18, 23, 30)</td>\n",
              "      <td>26</td>\n",
              "      <td>26.0</td>\n",
              "      <td>inf</td>\n",
              "    </tr>\n",
              "    <tr>\n",
              "      <th>...</th>\n",
              "      <td>...</td>\n",
              "      <td>...</td>\n",
              "      <td>...</td>\n",
              "      <td>...</td>\n",
              "    </tr>\n",
              "    <tr>\n",
              "      <th>952049</th>\n",
              "      <td>(41, 21, 15)</td>\n",
              "      <td>2</td>\n",
              "      <td>2.0</td>\n",
              "      <td>inf</td>\n",
              "    </tr>\n",
              "    <tr>\n",
              "      <th>952050</th>\n",
              "      <td>(41, 21, 12, 43)</td>\n",
              "      <td>2</td>\n",
              "      <td>2.0</td>\n",
              "      <td>inf</td>\n",
              "    </tr>\n",
              "    <tr>\n",
              "      <th>952051</th>\n",
              "      <td>(41, 21, 12)</td>\n",
              "      <td>2</td>\n",
              "      <td>2.0</td>\n",
              "      <td>inf</td>\n",
              "    </tr>\n",
              "    <tr>\n",
              "      <th>952052</th>\n",
              "      <td>(41, 21, 43)</td>\n",
              "      <td>2</td>\n",
              "      <td>2.0</td>\n",
              "      <td>inf</td>\n",
              "    </tr>\n",
              "    <tr>\n",
              "      <th>952053</th>\n",
              "      <td>(41, 21)</td>\n",
              "      <td>2</td>\n",
              "      <td>2.0</td>\n",
              "      <td>inf</td>\n",
              "    </tr>\n",
              "  </tbody>\n",
              "</table>\n",
              "<p>1463 rows × 4 columns</p>\n",
              "</div>"
            ],
            "text/plain": [
              "                 Pattern  Freq  Freq1   Gr\n",
              "35921       (20, 23, 18)    19   19.0  inf\n",
              "40381   (43, 23, 27, 16)    31   31.0  inf\n",
              "40384   (43, 23, 27, 28)    31   31.0  inf\n",
              "40385       (43, 23, 27)    31   31.0  inf\n",
              "41109   (43, 18, 23, 30)    26   26.0  inf\n",
              "...                  ...   ...    ...  ...\n",
              "952049      (41, 21, 15)     2    2.0  inf\n",
              "952050  (41, 21, 12, 43)     2    2.0  inf\n",
              "952051      (41, 21, 12)     2    2.0  inf\n",
              "952052      (41, 21, 43)     2    2.0  inf\n",
              "952053          (41, 21)     2    2.0  inf\n",
              "\n",
              "[1463 rows x 4 columns]"
            ]
          },
          "metadata": {
            "tags": []
          },
          "execution_count": 20
        }
      ]
    },
    {
      "cell_type": "code",
      "metadata": {
        "id": "L2etr_mljKRY",
        "colab_type": "code",
        "colab": {}
      },
      "source": [
        ""
      ],
      "execution_count": 0,
      "outputs": []
    }
  ]
}