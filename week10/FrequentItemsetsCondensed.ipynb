{
  "nbformat": 4,
  "nbformat_minor": 0,
  "metadata": {
    "colab": {
      "name": "FrequentItemsetsCondensed.ipynb",
      "provenance": [],
      "authorship_tag": "ABX9TyOwazJ3sdWM/gUlknu5c5Kw",
      "include_colab_link": true
    },
    "kernelspec": {
      "name": "python3",
      "display_name": "Python 3"
    }
  },
  "cells": [
    {
      "cell_type": "markdown",
      "metadata": {
        "id": "view-in-github",
        "colab_type": "text"
      },
      "source": [
        "<a href=\"https://colab.research.google.com/github/pcsilcan/da/blob/master/week10/FrequentItemsetsCondensed.ipynb\" target=\"_parent\"><img src=\"https://colab.research.google.com/assets/colab-badge.svg\" alt=\"Open In Colab\"/></a>"
      ]
    },
    {
      "cell_type": "code",
      "metadata": {
        "id": "jqQe8u4Gah9P",
        "colab_type": "code",
        "outputId": "cc4d5c12-77a7-45b7-9bb4-5a05ead96ac2",
        "colab": {
          "base_uri": "https://localhost:8080/",
          "height": 34
        }
      },
      "source": [
        "!pip install pyfim"
      ],
      "execution_count": 29,
      "outputs": [
        {
          "output_type": "stream",
          "text": [
            "Requirement already satisfied: pyfim in /usr/local/lib/python3.6/dist-packages (6.28)\n"
          ],
          "name": "stdout"
        }
      ]
    },
    {
      "cell_type": "code",
      "metadata": {
        "id": "U2-PGo0sa8Ho",
        "colab_type": "code",
        "colab": {}
      },
      "source": [
        "# !pip install seaborn"
      ],
      "execution_count": 0,
      "outputs": []
    },
    {
      "cell_type": "code",
      "metadata": {
        "id": "YAI3QApJa-mH",
        "colab_type": "code",
        "colab": {}
      },
      "source": [
        "from fim import *\n",
        "import matplotlib.pyplot as plt\n",
        "import numpy as np\n",
        "import seaborn as sns; sns.set()\n",
        "import time\n",
        "import pandas as pd"
      ],
      "execution_count": 0,
      "outputs": []
    },
    {
      "cell_type": "code",
      "metadata": {
        "id": "lBb4agQ4bLXv",
        "colab_type": "code",
        "outputId": "7f3f8435-6659-4458-a0f4-4b02a9ed5d7b",
        "colab": {
          "base_uri": "https://localhost:8080/",
          "height": 1000
        }
      },
      "source": [
        "help(eclat)"
      ],
      "execution_count": 32,
      "outputs": [
        {
          "output_type": "stream",
          "text": [
            "Help on built-in function eclat in module fim:\n",
            "\n",
            "eclat(...)\n",
            "    eclat (tracts, target='s', supp=10, zmin=1, zmax=None, report='a',\n",
            "           eval='x', agg='x', thresh=10, prune=None, algo='a', mode='',\n",
            "           border=None)\n",
            "    Find frequent item sets with the Eclat algorithm.\n",
            "    tracts  transaction database to mine (mandatory)\n",
            "            The database must be an iterable of transactions;\n",
            "            each transaction must be an iterable of items;\n",
            "            each item must be a hashable object.\n",
            "            If the database is a dictionary, the transactions are\n",
            "            the keys, the values their (integer) multiplicities.\n",
            "    target  type of frequent item sets to find     (default: s)\n",
            "            s/a   sets/all   all     frequent item sets\n",
            "            c     closed     closed  frequent item sets\n",
            "            m     maximal    maximal frequent item sets\n",
            "            g     gens       generators\n",
            "            r     rules      association rules\n",
            "    supp    minimum support of an item set         (default: 10)\n",
            "            (positive: percentage, negative: absolute number)\n",
            "    conf    minimum confidence of an assoc. rule   (default: 80%)\n",
            "    zmin    minimum number of items per item set   (default: 1)\n",
            "    zmax    maximum number of items per item set   (default: no limit)\n",
            "    report  values to report with an item set      (default: a)\n",
            "            a     absolute item set support (number of transactions)\n",
            "            s     relative item set support as a fraction\n",
            "            S     relative item set support as a percentage\n",
            "            e     value of item set evaluation measure\n",
            "            E     value of item set evaluation measure as a percentage\n",
            "            (     combine values in a tuple (must be first character)\n",
            "            [     combine values in a list  (must be first character)\n",
            "            #     pattern spectrum as a dictionary  (no patterns)\n",
            "            =     pattern spectrum as a list        (no patterns)\n",
            "            |     pattern spectrum as three columns (no patterns)\n",
            "            for target 'r' (association rules) also available:\n",
            "            b     absolute body set  support (number of transactions)\n",
            "            x     relative body set  support as a fraction\n",
            "            X     relative body set  support as a percentage\n",
            "            h     absolute head item support (number of transactions)\n",
            "            y     relative head item support as a fraction\n",
            "            Y     relative head item support as a percentage\n",
            "            c     rule confidence as a fraction\n",
            "            C     rule confidence as a percentage\n",
            "            l     lift value of a rule (confidence/prior)\n",
            "            L     lift value of a rule as a percentage\n",
            "            Q     support of the empty set (total number of transactions)\n",
            "    eval    measure for item set evaluation        (default: x)\n",
            "            x     none       no measure / zero (default)\n",
            "            b     ldratio    binary logarithm of support quotient       (+)\n",
            "            c     conf       rule confidence                            (+)\n",
            "            d     confdiff   absolute confidence difference to prior    (+)\n",
            "            l     lift       lift value (confidence divided by prior)   (+)\n",
            "            a     liftdiff   absolute difference of lift value to 1     (+)\n",
            "            q     liftquot   difference of lift quotient to 1           (+)\n",
            "            v     cvct       conviction (inverse lift for negated head) (+)\n",
            "            e     cvctdiff   absolute difference of conviction to 1     (+)\n",
            "            r     cvctquot   difference of conviction quotient to 1     (+)\n",
            "            k     cprob      conditional probability ratio              (+)\n",
            "            j     import     importance (binary log. of prob. ratio)    (+)\n",
            "            z     cert       certainty factor (relative conf. change)   (+)\n",
            "            n     chi2       normalized chi^2 measure                   (+)\n",
            "            p     chi2pval   p-value from (unnormalized) chi^2 measure  (-)\n",
            "            y     yates      normalized chi^2 with Yates' correction    (+)\n",
            "            t     yatespval  p-value from Yates-corrected chi^2 measure (-)\n",
            "            i     info       information difference to prior            (+)\n",
            "            g     infopval   p-value from G statistic/info. difference  (-)\n",
            "            f     fetprob    Fisher's exact test (table probability)    (-)\n",
            "            h     fetchi2    Fisher's exact test (chi^2 measure)        (-)\n",
            "            m     fetinfo    Fisher's exact test (mutual information)   (-)\n",
            "            s     fetsupp    Fisher's exact test (support)              (-)\n",
            "            Measures marked with (+) must meet or exceed the threshold,\n",
            "            measures marked with (-) must not exceed the threshold\n",
            "            in order for the item set to be reported.\n",
            "    agg     evaluation measure aggregation mode    (default: x)\n",
            "            x     none       no aggregation (use first value)\n",
            "            m     min        minimum of individual measure values\n",
            "            n     max        maximum of individual measure values\n",
            "            a     avg        average of individual measure values\n",
            "    thresh  threshold for evaluation measure       (default: 10%)\n",
            "    prune   min. size for evaluation filtering     (default: no pruning)\n",
            "            = 0   backward filtering       (no subset check)\n",
            "            < 0   weak   forward filtering (one subset  must qualify)\n",
            "            > 0   strong forward filtering (all subsets must qualify)\n",
            "    algo    algorithm variant to use               (default: a)\n",
            "            a     auto       automatic choice based on data properties\n",
            "            e     basic      transaction id lists intersection (basic)\n",
            "            i     tids       transaction id lists intersection (improved)\n",
            "            b     bits       transaction id lists as bit vectors\n",
            "            t     table      item occurrence table (standard)\n",
            "            s     simple     item occurrence table (simplified)\n",
            "            r     ranges     transaction id range lists intersection\n",
            "            o     occdlv     occurrence deliver from transaction lists\n",
            "            d     diff       transaction id difference sets (diffsets)\n",
            "    mode    operation mode indicators/flags        (default: None)\n",
            "            l     do not use a 16-items machine\n",
            "            x     do not use perfect extension pruning\n",
            "            i     do not sort items w.r.t. conditional support\n",
            "            u     do not head union tail (hut) pruning (maximal)\n",
            "            y     check extensions for closed/maximal item sets\n",
            "            z     invalidate evaluation below expected support\n",
            "            o     use original rule support definition (body & head)\n",
            "    border  support border for filtering item sets (default: None)\n",
            "            Must be a list or tuple of (absolute) minimum support values\n",
            "            per item set size (by which the list/tuple is indexed).\n",
            "    appear  dictionary mapping items to item appearance indicators,\n",
            "            with the key None referring to the default item appearance.\n",
            "            (If None does not occur as a key or no dictionary is given,\n",
            "            the default item appearance indicator is 'both'.)\n",
            "            This parameter is only used if the target type is rules.\n",
            "            * item may not appear anywhere in a rule:\n",
            "              '-', 'n', 'none', 'neither', 'ignore'\n",
            "            * item may appear only in rule body/antecedent:\n",
            "              'i', 'in', 'inp', 'input', 'b', 'body',\n",
            "              'a', 'ante', 'antecedent'\n",
            "            * item may appear only in rule head/consequent:\n",
            "              'o', 'out',      'output', 'h', 'head',\n",
            "              'c', 'cons', 'consequent'\n",
            "            * item may appear anywhere in a rule:\n",
            "              'io', 'i&o', 'inout', 'in&out', 'bh', 'b&h', 'both'\n",
            "    returns if report is not in ['#','=','|']:\n",
            "              if the target is association rules:\n",
            "                a list of rules (i.e. tuples with two or more elements),\n",
            "                each consisting of a head/consequent item, a tuple with\n",
            "                a body/antecedent item set, and the values selected by\n",
            "                the parameter 'report', which may be combined into a\n",
            "                tuple or a list if report[0] is '(' or '[', respectively.\n",
            "              if the target is a type of item sets:\n",
            "                a list of patterns (i.e. tuples with one or more elements),\n",
            "                each consisting of a tuple with a found frequent item set\n",
            "                and the values selected by the parameter 'report', which\n",
            "                may be combined into a tuple or list if report[0] is '('\n",
            "                or '[', respectively\n",
            "            if report in ['#','=','|']:\n",
            "              a pattern spectrum as a dictionary mapping pattern sizes\n",
            "              to the corresponding occurrence support ranges, as a list\n",
            "              of triplets (size, min. support, max. support) or as three\n",
            "              columns for sizes and minimum and maximum support values\n",
            "\n"
          ],
          "name": "stdout"
        }
      ]
    },
    {
      "cell_type": "code",
      "metadata": {
        "id": "2IXcnJ9deeVj",
        "colab_type": "code",
        "colab": {}
      },
      "source": [
        "def leerDataset(nombre):\n",
        "    archivo = open(nombre, 'r')\n",
        "    dataset = []\n",
        "    dataset1 = []\n",
        "    for x in archivo:\n",
        "        if \"#\" not in x:\n",
        "            items = x.split(' ')\n",
        "            dataset += [[int(j) for j in items[1:]]]\n",
        "            if items[0] == '1':\n",
        "                dataset1 += [[int(j) for j in items[1:]]]\n",
        "    archivo.close()\n",
        "    return dataset, dataset1"
      ],
      "execution_count": 0,
      "outputs": []
    },
    {
      "cell_type": "code",
      "metadata": {
        "id": "V9Iv1TzGfP04",
        "colab_type": "code",
        "colab": {}
      },
      "source": [
        "d, _ = leerDataset('zoo.bin')"
      ],
      "execution_count": 0,
      "outputs": []
    },
    {
      "cell_type": "code",
      "metadata": {
        "id": "V3-qsJNXfkaw",
        "colab_type": "code",
        "colab": {}
      },
      "source": [
        "def allPatterns(d, minsupp):\n",
        "    s = eclat(d, target='a', supp=minsupp)\n",
        "    if len(s) > 0:\n",
        "        df = pd.DataFrame(s)\n",
        "        df.columns = ['Pattern', 'Freq']\n",
        "        return True, df\n",
        "\n",
        "    return False, _"
      ],
      "execution_count": 0,
      "outputs": []
    },
    {
      "cell_type": "code",
      "metadata": {
        "id": "QP5IqqwagNau",
        "colab_type": "code",
        "colab": {}
      },
      "source": [
        "def plotAllPatterns(f):\n",
        "    numberdata = []\n",
        "    d, _ = leerDataset(f)\n",
        "    k = int(len(d) / 20)\n",
        "    for i in range(k, len(d), k):\n",
        "        start = time.time()\n",
        "        r, t = allPatterns(d, i)\n",
        "        end = time.time()\n",
        "        if r:\n",
        "            numberdata += [(i, t.shape[0], end - start)]\n",
        "    df = pd.DataFrame(numberdata)\n",
        "    df.columns = ['Threshold', 'AllItemsets', 'TimeAllItemsets']\n",
        "    fig, ax = plt.subplots(1, 2)\n",
        "    sns.lineplot(x='Threshold', y='AllItemsets', ax=ax[0], data=df)\n",
        "    sns.lineplot(x='Threshold', y='TimeAllItemsets', ax=ax[1], data=df)\n",
        "    fig.show()\n",
        "\n",
        "    return df"
      ],
      "execution_count": 0,
      "outputs": []
    },
    {
      "cell_type": "code",
      "metadata": {
        "id": "1L3yHZ-khmJm",
        "colab_type": "code",
        "outputId": "2ee7418c-a409-42e0-8909-a9ed0e68c8d1",
        "colab": {
          "base_uri": "https://localhost:8080/",
          "height": 288
        }
      },
      "source": [
        "dfAFI = plotAllPatterns('zoo.bin')"
      ],
      "execution_count": 37,
      "outputs": [
        {
          "output_type": "display_data",
          "data": {
            "image/png": "[encoded data removed]",
            "text/plain": [
              "<Figure size 432x288 with 2 Axes>"
            ]
          },
          "metadata": {
            "tags": []
          }
        }
      ]
    },
    {
      "cell_type": "code",
      "metadata": {
        "id": "2jBls2-Bhp9e",
        "colab_type": "code",
        "colab": {}
      },
      "source": [
        "def closedPatterns(d, minsupp):\n",
        "    s = eclat(d, target='c', supp=minsupp)\n",
        "    if len(s) > 0:\n",
        "        df = pd.DataFrame(s)\n",
        "        df.columns = ['Pattern', 'Freq']\n",
        "        return True, df\n",
        "    return False, _"
      ],
      "execution_count": 0,
      "outputs": []
    },
    {
      "cell_type": "code",
      "metadata": {
        "id": "iqMSebQlEiRh",
        "colab_type": "code",
        "colab": {}
      },
      "source": [
        "def plotClosedPatterns(f):\n",
        "    numberdata = []\n",
        "    d, _ = leerDataset(f)\n",
        "    k = int(len(d)/20)\n",
        "    for i in range(k, len(d), k):\n",
        "        start = time.time()\n",
        "        r, t = closedPatterns(d, i)\n",
        "        end = time.time()\n",
        "        if r:\n",
        "            numberdata += [(i, t.shape[0], end-start)]\n",
        "    df = pd.DataFrame(numberdata)\n",
        "    df.columns = ['Threshold', 'ClosedItemsets', 'TimeClosedItemsets']\n",
        "    fig, ax = plt.subplots(1, 2)\n",
        "    sns.lineplot(x='Threshold', y='ClosedItemsets', ax=ax[0], data=df)\n",
        "    sns.lineplot(x='Threshold', y='TimeClosedItemsets', ax=ax[1], data=df)\n",
        "    fig.show()\n",
        "    return df\n"
      ],
      "execution_count": 0,
      "outputs": []
    },
    {
      "cell_type": "code",
      "metadata": {
        "id": "l-qTmEEpGRvk",
        "colab_type": "code",
        "colab": {
          "base_uri": "https://localhost:8080/",
          "height": 285
        },
        "outputId": "27217b69-332e-4a20-c27c-cd0a4a0cf70f"
      },
      "source": [
        "dfCFI = plotClosedPatterns('zoo.bin')"
      ],
      "execution_count": 40,
      "outputs": [
        {
          "output_type": "display_data",
          "data": {
            "image/png": "[encoded data removed]",
            "text/plain": [
              "<Figure size 432x288 with 2 Axes>"
            ]
          },
          "metadata": {
            "tags": []
          }
        }
      ]
    },
    {
      "cell_type": "code",
      "metadata": {
        "id": "Nl2GOPrjGW3M",
        "colab_type": "code",
        "colab": {}
      },
      "source": [
        "def maximalPatterns(d, minsupp):\n",
        "    s = eclat(d, target='m', supp=minsupp)\n",
        "    if len(s) > 0:\n",
        "        df = pd.DataFrame(s)\n",
        "        df.columns = ['Pattern', 'Freq']\n",
        "        return True, df\n",
        "    return False, _"
      ],
      "execution_count": 0,
      "outputs": []
    },
    {
      "cell_type": "code",
      "metadata": {
        "id": "VdzJmikBII9Z",
        "colab_type": "code",
        "colab": {}
      },
      "source": [
        "def plotMaximalPatterns(f):\n",
        "    numberdata = []\n",
        "    d, _ = leerDataset(f)\n",
        "    k = int(len(d)/20)\n",
        "    for i in range(k, len(d), k):\n",
        "        start = time.time()\n",
        "        r, t = maximalPatterns(d, i)\n",
        "        end = time.time()\n",
        "        if r:\n",
        "            numberdata += [(i, t.shape[0], end-start)]\n",
        "    df = pd.DataFrame(numberdata)\n",
        "    df.columns = ['Threshold', 'MaximalItemsets', 'TimeMaximalItemsets']\n",
        "    fig, ax = plt.subplots(1, 2)\n",
        "    sns.lineplot(x='Threshold', y='MaximalItemsets', ax=ax[0], data=df)\n",
        "    sns.lineplot(x='Threshold', y='TimeMaximalItemsets', ax=ax[1], data=df)\n",
        "    fig.show()\n",
        "    return df"
      ],
      "execution_count": 0,
      "outputs": []
    },
    {
      "cell_type": "code",
      "metadata": {
        "id": "FbvM6RCDJF_A",
        "colab_type": "code",
        "colab": {
          "base_uri": "https://localhost:8080/",
          "height": 285
        },
        "outputId": "ec136637-165e-46ea-ea85-622f13072a57"
      },
      "source": [
        "dfMFI = plotMaximalPatterns('zoo.bin')"
      ],
      "execution_count": 43,
      "outputs": [
        {
          "output_type": "display_data",
          "data": {
            "image/png": "[encoded data removed]",
            "text/plain": [
              "<Figure size 432x288 with 2 Axes>"
            ]
          },
          "metadata": {
            "tags": []
          }
        }
      ]
    },
    {
      "cell_type": "code",
      "metadata": {
        "id": "Iwpb8aWQJKkU",
        "colab_type": "code",
        "colab": {
          "base_uri": "https://localhost:8080/",
          "height": 370
        },
        "outputId": "a4b238c2-63cd-43b4-ed2e-5e2dce483d8c"
      },
      "source": [
        "dx = dfAFI.join(dfCFI.set_index('Threshold'), on='Threshold').join(dfMFI.set_index('Threshold'), on='Threshold')\n",
        "print(dx)"
      ],
      "execution_count": 44,
      "outputs": [
        {
          "output_type": "stream",
          "text": [
            "    Threshold  AllItemsets  ...  MaximalItemsets  TimeMaximalItemsets\n",
            "0           5       304723  ...              216             0.005330\n",
            "1          10       132253  ...              223             0.004131\n",
            "2          15        54888  ...              208             0.003340\n",
            "3          20        28589  ...              169             0.001687\n",
            "4          25        14305  ...              126             0.001462\n",
            "5          30         4710  ...              100             0.001269\n",
            "6          35         1600  ...               86             0.001174\n",
            "7          40          488  ...               57             0.001024\n",
            "8          45          288  ...               37             0.000999\n",
            "9          50          168  ...               32             0.000949\n",
            "10         55          102  ...               19             0.000952\n",
            "11         60           59  ...               16             0.000896\n",
            "12         65           31  ...               10             0.000885\n",
            "13         70           23  ...                9             0.000874\n",
            "14         75           11  ...                6             0.000868\n",
            "15         80            6  ...                4             0.000889\n",
            "16         85            2  ...                2             0.000854\n",
            "17         90            1  ...                1             0.000804\n",
            "\n",
            "[18 rows x 7 columns]\n"
          ],
          "name": "stdout"
        }
      ]
    },
    {
      "cell_type": "code",
      "metadata": {
        "id": "T-YlOZJpKVn4",
        "colab_type": "code",
        "colab": {}
      },
      "source": [
        ""
      ],
      "execution_count": 0,
      "outputs": []
    }
  ]
}