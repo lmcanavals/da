{
  "nbformat": 4,
  "nbformat_minor": 0,
  "metadata": {
    "colab": {
      "name": "Untitled1.ipynb",
      "provenance": [],
      "authorship_tag": "ABX9TyM5+r8UWHqpZzQa8eVNlVVb",
      "include_colab_link": true
    },
    "kernelspec": {
      "name": "python3",
      "display_name": "Python 3"
    }
  },
  "cells": [
    {
      "cell_type": "markdown",
      "metadata": {
        "id": "view-in-github",
        "colab_type": "text"
      },
      "source": [
        "<a href=\"https://colab.research.google.com/github/pcsilcan/da/blob/master/week10/FrequentItemsetsCondensed.ipynb\" target=\"_parent\"><img src=\"https://colab.research.google.com/assets/colab-badge.svg\" alt=\"Open In Colab\"/></a>"
      ]
    },
    {
      "cell_type": "code",
      "metadata": {
        "id": "jqQe8u4Gah9P",
        "colab_type": "code",
        "colab": {
          "base_uri": "https://localhost:8080/",
          "height": 205
        },
        "outputId": "49298323-ae22-4a85-ca3a-ffcb8c5a7824"
      },
      "source": [
        "!pip install pyfim"
      ],
      "execution_count": 5,
      "outputs": [
        {
          "output_type": "stream",
          "text": [
            "Collecting pyfim\n",
            "\u001b[?25l  Downloading https://files.pythonhosted.org/packages/b4/af/6a0e2e9cb2dad10f94859ce198a81c2d9e98af75263a14a912ff9a0cdb75/pyfim-6.28.tar.gz (357kB)\n",
            "\r\u001b[K     |█                               | 10kB 19.9MB/s eta 0:00:01\r\u001b[K     |█▉                              | 20kB 6.5MB/s eta 0:00:01\r\u001b[K     |██▊                             | 30kB 7.9MB/s eta 0:00:01\r\u001b[K     |███▊                            | 40kB 8.8MB/s eta 0:00:01\r\u001b[K     |████▋                           | 51kB 7.4MB/s eta 0:00:01\r\u001b[K     |█████▌                          | 61kB 8.3MB/s eta 0:00:01\r\u001b[K     |██████▍                         | 71kB 8.6MB/s eta 0:00:01\r\u001b[K     |███████▍                        | 81kB 9.1MB/s eta 0:00:01\r\u001b[K     |████████▎                       | 92kB 8.2MB/s eta 0:00:01\r\u001b[K     |█████████▏                      | 102kB 8.4MB/s eta 0:00:01\r\u001b[K     |██████████                      | 112kB 8.4MB/s eta 0:00:01\r\u001b[K     |███████████                     | 122kB 8.4MB/s eta 0:00:01\r\u001b[K     |████████████                    | 133kB 8.4MB/s eta 0:00:01\r\u001b[K     |████████████▉                   | 143kB 8.4MB/s eta 0:00:01\r\u001b[K     |█████████████▊                  | 153kB 8.4MB/s eta 0:00:01\r\u001b[K     |██████████████▊                 | 163kB 8.4MB/s eta 0:00:01\r\u001b[K     |███████████████▋                | 174kB 8.4MB/s eta 0:00:01\r\u001b[K     |████████████████▌               | 184kB 8.4MB/s eta 0:00:01\r\u001b[K     |█████████████████▍              | 194kB 8.4MB/s eta 0:00:01\r\u001b[K     |██████████████████▍             | 204kB 8.4MB/s eta 0:00:01\r\u001b[K     |███████████████████▎            | 215kB 8.4MB/s eta 0:00:01\r\u001b[K     |████████████████████▏           | 225kB 8.4MB/s eta 0:00:01\r\u001b[K     |█████████████████████           | 235kB 8.4MB/s eta 0:00:01\r\u001b[K     |██████████████████████          | 245kB 8.4MB/s eta 0:00:01\r\u001b[K     |███████████████████████         | 256kB 8.4MB/s eta 0:00:01\r\u001b[K     |███████████████████████▉        | 266kB 8.4MB/s eta 0:00:01\r\u001b[K     |████████████████████████▊       | 276kB 8.4MB/s eta 0:00:01\r\u001b[K     |█████████████████████████▊      | 286kB 8.4MB/s eta 0:00:01\r\u001b[K     |██████████████████████████▋     | 296kB 8.4MB/s eta 0:00:01\r\u001b[K     |███████████████████████████▌    | 307kB 8.4MB/s eta 0:00:01\r\u001b[K     |████████████████████████████▍   | 317kB 8.4MB/s eta 0:00:01\r\u001b[K     |█████████████████████████████▍  | 327kB 8.4MB/s eta 0:00:01\r\u001b[K     |██████████████████████████████▎ | 337kB 8.4MB/s eta 0:00:01\r\u001b[K     |███████████████████████████████▏| 348kB 8.4MB/s eta 0:00:01\r\u001b[K     |████████████████████████████████| 358kB 8.4MB/s \n",
            "\u001b[?25hBuilding wheels for collected packages: pyfim\n",
            "  Building wheel for pyfim (setup.py) ... \u001b[?25l\u001b[?25hdone\n",
            "  Created wheel for pyfim: filename=pyfim-6.28-cp36-cp36m-linux_x86_64.whl size=536916 sha256=8ebc229377e174b28aba1c2a345f89eecb8bae035459fe03175fd2b37d276013\n",
            "  Stored in directory: /root/.cache/pip/wheels/19/ac/b4/9ae8ceb2208d78b21b1157f8561cc4469d236b7d785e7422f1\n",
            "Successfully built pyfim\n",
            "Installing collected packages: pyfim\n",
            "Successfully installed pyfim-6.28\n"
          ],
          "name": "stdout"
        }
      ]
    },
    {
      "cell_type": "code",
      "metadata": {
        "id": "U2-PGo0sa8Ho",
        "colab_type": "code",
        "colab": {}
      },
      "source": [
        "# !pip install seaborn"
      ],
      "execution_count": 0,
      "outputs": []
    },
    {
      "cell_type": "code",
      "metadata": {
        "id": "YAI3QApJa-mH",
        "colab_type": "code",
        "colab": {
          "base_uri": "https://localhost:8080/",
          "height": 70
        },
        "outputId": "a3908d5d-1c94-45df-f9ec-0ad0ffa4d0fe"
      },
      "source": [
        "from fim import *\n",
        "import matplotlib.pyplot as plt\n",
        "import numpy as np\n",
        "import seaborn as sns; sns.set()\n",
        "import time\n",
        "import pandas as pd"
      ],
      "execution_count": 6,
      "outputs": [
        {
          "output_type": "stream",
          "text": [
            "/usr/local/lib/python3.6/dist-packages/statsmodels/tools/_testing.py:19: FutureWarning: pandas.util.testing is deprecated. Use the functions in the public API at pandas.testing instead.\n",
            "  import pandas.util.testing as tm\n"
          ],
          "name": "stderr"
        }
      ]
    },
    {
      "cell_type": "code",
      "metadata": {
        "id": "lBb4agQ4bLXv",
        "colab_type": "code",
        "colab": {
          "base_uri": "https://localhost:8080/",
          "height": 1000
        },
        "outputId": "d8a7cb41-e73a-4508-81d2-89a4d64589f0"
      },
      "source": [
        "help(eclat)"
      ],
      "execution_count": 7,
      "outputs": [
        {
          "output_type": "stream",
          "text": [
            "Help on built-in function eclat in module fim:\n",
            "\n",
            "eclat(...)\n",
            "    eclat (tracts, target='s', supp=10, zmin=1, zmax=None, report='a',\n",
            "           eval='x', agg='x', thresh=10, prune=None, algo='a', mode='',\n",
            "           border=None)\n",
            "    Find frequent item sets with the Eclat algorithm.\n",
            "    tracts  transaction database to mine (mandatory)\n",
            "            The database must be an iterable of transactions;\n",
            "            each transaction must be an iterable of items;\n",
            "            each item must be a hashable object.\n",
            "            If the database is a dictionary, the transactions are\n",
            "            the keys, the values their (integer) multiplicities.\n",
            "    target  type of frequent item sets to find     (default: s)\n",
            "            s/a   sets/all   all     frequent item sets\n",
            "            c     closed     closed  frequent item sets\n",
            "            m     maximal    maximal frequent item sets\n",
            "            g     gens       generators\n",
            "            r     rules      association rules\n",
            "    supp    minimum support of an item set         (default: 10)\n",
            "            (positive: percentage, negative: absolute number)\n",
            "    conf    minimum confidence of an assoc. rule   (default: 80%)\n",
            "    zmin    minimum number of items per item set   (default: 1)\n",
            "    zmax    maximum number of items per item set   (default: no limit)\n",
            "    report  values to report with an item set      (default: a)\n",
            "            a     absolute item set support (number of transactions)\n",
            "            s     relative item set support as a fraction\n",
            "            S     relative item set support as a percentage\n",
            "            e     value of item set evaluation measure\n",
            "            E     value of item set evaluation measure as a percentage\n",
            "            (     combine values in a tuple (must be first character)\n",
            "            [     combine values in a list  (must be first character)\n",
            "            #     pattern spectrum as a dictionary  (no patterns)\n",
            "            =     pattern spectrum as a list        (no patterns)\n",
            "            |     pattern spectrum as three columns (no patterns)\n",
            "            for target 'r' (association rules) also available:\n",
            "            b     absolute body set  support (number of transactions)\n",
            "            x     relative body set  support as a fraction\n",
            "            X     relative body set  support as a percentage\n",
            "            h     absolute head item support (number of transactions)\n",
            "            y     relative head item support as a fraction\n",
            "            Y     relative head item support as a percentage\n",
            "            c     rule confidence as a fraction\n",
            "            C     rule confidence as a percentage\n",
            "            l     lift value of a rule (confidence/prior)\n",
            "            L     lift value of a rule as a percentage\n",
            "            Q     support of the empty set (total number of transactions)\n",
            "    eval    measure for item set evaluation        (default: x)\n",
            "            x     none       no measure / zero (default)\n",
            "            b     ldratio    binary logarithm of support quotient       (+)\n",
            "            c     conf       rule confidence                            (+)\n",
            "            d     confdiff   absolute confidence difference to prior    (+)\n",
            "            l     lift       lift value (confidence divided by prior)   (+)\n",
            "            a     liftdiff   absolute difference of lift value to 1     (+)\n",
            "            q     liftquot   difference of lift quotient to 1           (+)\n",
            "            v     cvct       conviction (inverse lift for negated head) (+)\n",
            "            e     cvctdiff   absolute difference of conviction to 1     (+)\n",
            "            r     cvctquot   difference of conviction quotient to 1     (+)\n",
            "            k     cprob      conditional probability ratio              (+)\n",
            "            j     import     importance (binary log. of prob. ratio)    (+)\n",
            "            z     cert       certainty factor (relative conf. change)   (+)\n",
            "            n     chi2       normalized chi^2 measure                   (+)\n",
            "            p     chi2pval   p-value from (unnormalized) chi^2 measure  (-)\n",
            "            y     yates      normalized chi^2 with Yates' correction    (+)\n",
            "            t     yatespval  p-value from Yates-corrected chi^2 measure (-)\n",
            "            i     info       information difference to prior            (+)\n",
            "            g     infopval   p-value from G statistic/info. difference  (-)\n",
            "            f     fetprob    Fisher's exact test (table probability)    (-)\n",
            "            h     fetchi2    Fisher's exact test (chi^2 measure)        (-)\n",
            "            m     fetinfo    Fisher's exact test (mutual information)   (-)\n",
            "            s     fetsupp    Fisher's exact test (support)              (-)\n",
            "            Measures marked with (+) must meet or exceed the threshold,\n",
            "            measures marked with (-) must not exceed the threshold\n",
            "            in order for the item set to be reported.\n",
            "    agg     evaluation measure aggregation mode    (default: x)\n",
            "            x     none       no aggregation (use first value)\n",
            "            m     min        minimum of individual measure values\n",
            "            n     max        maximum of individual measure values\n",
            "            a     avg        average of individual measure values\n",
            "    thresh  threshold for evaluation measure       (default: 10%)\n",
            "    prune   min. size for evaluation filtering     (default: no pruning)\n",
            "            = 0   backward filtering       (no subset check)\n",
            "            < 0   weak   forward filtering (one subset  must qualify)\n",
            "            > 0   strong forward filtering (all subsets must qualify)\n",
            "    algo    algorithm variant to use               (default: a)\n",
            "            a     auto       automatic choice based on data properties\n",
            "            e     basic      transaction id lists intersection (basic)\n",
            "            i     tids       transaction id lists intersection (improved)\n",
            "            b     bits       transaction id lists as bit vectors\n",
            "            t     table      item occurrence table (standard)\n",
            "            s     simple     item occurrence table (simplified)\n",
            "            r     ranges     transaction id range lists intersection\n",
            "            o     occdlv     occurrence deliver from transaction lists\n",
            "            d     diff       transaction id difference sets (diffsets)\n",
            "    mode    operation mode indicators/flags        (default: None)\n",
            "            l     do not use a 16-items machine\n",
            "            x     do not use perfect extension pruning\n",
            "            i     do not sort items w.r.t. conditional support\n",
            "            u     do not head union tail (hut) pruning (maximal)\n",
            "            y     check extensions for closed/maximal item sets\n",
            "            z     invalidate evaluation below expected support\n",
            "            o     use original rule support definition (body & head)\n",
            "    border  support border for filtering item sets (default: None)\n",
            "            Must be a list or tuple of (absolute) minimum support values\n",
            "            per item set size (by which the list/tuple is indexed).\n",
            "    appear  dictionary mapping items to item appearance indicators,\n",
            "            with the key None referring to the default item appearance.\n",
            "            (If None does not occur as a key or no dictionary is given,\n",
            "            the default item appearance indicator is 'both'.)\n",
            "            This parameter is only used if the target type is rules.\n",
            "            * item may not appear anywhere in a rule:\n",
            "              '-', 'n', 'none', 'neither', 'ignore'\n",
            "            * item may appear only in rule body/antecedent:\n",
            "              'i', 'in', 'inp', 'input', 'b', 'body',\n",
            "              'a', 'ante', 'antecedent'\n",
            "            * item may appear only in rule head/consequent:\n",
            "              'o', 'out',      'output', 'h', 'head',\n",
            "              'c', 'cons', 'consequent'\n",
            "            * item may appear anywhere in a rule:\n",
            "              'io', 'i&o', 'inout', 'in&out', 'bh', 'b&h', 'both'\n",
            "    returns if report is not in ['#','=','|']:\n",
            "              if the target is association rules:\n",
            "                a list of rules (i.e. tuples with two or more elements),\n",
            "                each consisting of a head/consequent item, a tuple with\n",
            "                a body/antecedent item set, and the values selected by\n",
            "                the parameter 'report', which may be combined into a\n",
            "                tuple or a list if report[0] is '(' or '[', respectively.\n",
            "              if the target is a type of item sets:\n",
            "                a list of patterns (i.e. tuples with one or more elements),\n",
            "                each consisting of a tuple with a found frequent item set\n",
            "                and the values selected by the parameter 'report', which\n",
            "                may be combined into a tuple or list if report[0] is '('\n",
            "                or '[', respectively\n",
            "            if report in ['#','=','|']:\n",
            "              a pattern spectrum as a dictionary mapping pattern sizes\n",
            "              to the corresponding occurrence support ranges, as a list\n",
            "              of triplets (size, min. support, max. support) or as three\n",
            "              columns for sizes and minimum and maximum support values\n",
            "\n"
          ],
          "name": "stdout"
        }
      ]
    },
    {
      "cell_type": "code",
      "metadata": {
        "id": "2IXcnJ9deeVj",
        "colab_type": "code",
        "colab": {}
      },
      "source": [
        "def leerDataset(nombre):\n",
        "    archivo = open(nombre, 'r')\n",
        "    dataset = []\n",
        "    dataset1 = []\n",
        "    for x in archivo:\n",
        "        if \"#\" not in x:\n",
        "            items = x.split(' ')\n",
        "            dataset += [[int(j) for j in items[1:]]]\n",
        "            if items[0] == '1':\n",
        "                dataset1 += [[int(j) for j in items[1:]]]\n",
        "    archivo.close()\n",
        "    return dataset, dataset1"
      ],
      "execution_count": 0,
      "outputs": []
    },
    {
      "cell_type": "code",
      "metadata": {
        "id": "V9Iv1TzGfP04",
        "colab_type": "code",
        "colab": {}
      },
      "source": [
        "d, _ = leerDataset('zoo.bin')"
      ],
      "execution_count": 0,
      "outputs": []
    },
    {
      "cell_type": "code",
      "metadata": {
        "id": "V3-qsJNXfkaw",
        "colab_type": "code",
        "colab": {}
      },
      "source": [
        "def allPatterns(d, minsupp):\n",
        "    s = eclat(d, target='a', supp=minsupp)\n",
        "    if len(s) > 0:\n",
        "        df = pd.DataFrame(s)\n",
        "        df.columns = ['Pattern', 'Freq']\n",
        "        return True, df\n",
        "\n",
        "    return False, _"
      ],
      "execution_count": 0,
      "outputs": []
    },
    {
      "cell_type": "code",
      "metadata": {
        "id": "QP5IqqwagNau",
        "colab_type": "code",
        "colab": {}
      },
      "source": [
        "def plotAllPatterns(f):\n",
        "    numberdata = []\n",
        "    d, _ = leerDataset(f)\n",
        "    k = int(len(d) / 20)\n",
        "    for i in range(k, len(d), k):\n",
        "        start = time.time()\n",
        "        r, t = allPatterns(d, i)\n",
        "        end = time.time()\n",
        "        if r:\n",
        "            numberdata += [(i, t.shape[0], end - start)]\n",
        "    df = pd.DataFrame(numberdata)\n",
        "    df.columns = ['Threshold', 'AllItemsets', 'TimeAllItemsets']\n",
        "    fig, ax = plt.subplots(1, 2)\n",
        "    sns.lineplot(x='Threshold', y='AllItemsets', ax=ax[0], data=df)\n",
        "    sns.lineplot(x='Threshold', y='TimeAllItemsets', ax=ax[1], data=df)\n",
        "    fig.show()\n",
        "\n",
        "    return df"
      ],
      "execution_count": 0,
      "outputs": []
    },
    {
      "cell_type": "code",
      "metadata": {
        "id": "1L3yHZ-khmJm",
        "colab_type": "code",
        "colab": {
          "base_uri": "https://localhost:8080/",
          "height": 285
        },
        "outputId": "fc1a80a2-b6d1-4e69-8426-425453fff78c"
      },
      "source": [
        "dfAFI = plotAllPatterns('zoo.bin')"
      ],
      "execution_count": 21,
      "outputs": [
        {
          "output_type": "display_data",
          "data": {
            "image/png": "[encoded data removed]",
            "text/plain": [
              "<Figure size 432x288 with 2 Axes>"
            ]
          },
          "metadata": {
            "tags": []
          }
        }
      ]
    },
    {
      "cell_type": "code",
      "metadata": {
        "id": "2jBls2-Bhp9e",
        "colab_type": "code",
        "colab": {}
      },
      "source": [
        ""
      ],
      "execution_count": 0,
      "outputs": []
    }
  ]
}